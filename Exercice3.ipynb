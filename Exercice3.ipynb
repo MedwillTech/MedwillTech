{
  "nbformat": 4,
  "nbformat_minor": 0,
  "metadata": {
    "colab": {
      "provenance": [],
      "authorship_tag": "ABX9TyM4IYg4p2Jco4LnwdZJEZ9S", 
      "include_colab_link": true
    },
    "kernelspec": {
      "name": "python3",
      "display_name": "Python 3"
    },
    "language_info": {
      "name": "python"
    }
  },
  "cells": [
    {
      "cell_type": "markdown",
      "metadata": {
        "id": "view-in-github",
        "colab_type": "text"
      },
      "source": [
        "<a href=\"https://colab.research.google.com/github/MedwillTech/MedwillTech/blob/main/Exercice3.ipynb\" target=\"_parent\"><img src=\"https://colab.research.google.com/assets/colab-badge.svg\" alt=\"Open In Colab\"/></a>"
      ]
    },
    {
      "cell_type": "markdown",
      "source": [
        "## Apprentissage supervisé par l'utilisation de différentes fonctions de coût"
      ],
      "metadata": {
        "id": "wUBpR7_MUZKL"
      }
    },
    {
      "cell_type": "markdown",
      "source": [
        "Dans cet exercice, nous examinerons plus en détail la façon dont les fonctions de coût peuvent changer :\n",
        "\n",
        "la façon dont les modèles semblent s'adapter aux données\n",
        "Les types de relations qu'un modèle représente"
      ],
      "metadata": {
        "id": "xmxmrfzmUrca"
      }
    },
    {
      "cell_type": "markdown",
      "source": [
        "**Loading the data**"
      ],
      "metadata": {
        "id": "FbPeCdqcU9DW"
      }
    },
    {
      "cell_type": "code",
      "execution_count": 3,
      "metadata": {
        "colab": {
          "base_uri": "https://localhost:8080/",
          "height": 300
        },
        "id": "G43UDZt5UH7D",
        "outputId": "42e640f2-e1f2-4275-c30d-8a0c8350f360"
      },
      "outputs": [
        {
          "output_type": "execute_result",
          "data": {
            "text/plain": [
              "            date  amount_of_precipitation  max_temperature  min_temperature  \\\n",
              "762   1950-02-01                     0.00               27                1   \n",
              "4414  1960-02-01                     0.15               52               44   \n",
              "8067  1970-02-01                     0.00               50               42   \n",
              "11719 1980-02-01                     0.37               54               36   \n",
              "15372 1990-02-01                     0.08               45               37   \n",
              "19024 2000-02-01                     1.34               49               41   \n",
              "22677 2010-02-01                     0.08               49               40   \n",
              "25234 2017-02-01                     0.00               43               29   \n",
              "\n",
              "        rain         year  \n",
              "762    False  1950.087611  \n",
              "4414    True  1960.087611  \n",
              "8067   False  1970.087611  \n",
              "11719   True  1980.087611  \n",
              "15372   True  1990.087611  \n",
              "19024   True  2000.087611  \n",
              "22677   True  2010.087611  \n",
              "25234  False  2017.087611  "
            ],
            "text/html": [
              "\n",
              "  <div id=\"df-a8bc23e0-f37f-49c0-b6e8-532d40de84dc\" class=\"colab-df-container\">\n",
              "    <div>\n",
              "<style scoped>\n",
              "    .dataframe tbody tr th:only-of-type {\n",
              "        vertical-align: middle;\n",
              "    }\n",
              "\n",
              "    .dataframe tbody tr th {\n",
              "        vertical-align: top;\n",
              "    }\n",
              "\n",
              "    .dataframe thead th {\n",
              "        text-align: right;\n",
              "    }\n",
              "</style>\n",
              "<table border=\"1\" class=\"dataframe\">\n",
              "  <thead>\n",
              "    <tr style=\"text-align: right;\">\n",
              "      <th></th>\n",
              "      <th>date</th>\n",
              "      <th>amount_of_precipitation</th>\n",
              "      <th>max_temperature</th>\n",
              "      <th>min_temperature</th>\n",
              "      <th>rain</th>\n",
              "      <th>year</th>\n",
              "    </tr>\n",
              "  </thead>\n",
              "  <tbody>\n",
              "    <tr>\n",
              "      <th>762</th>\n",
              "      <td>1950-02-01</td>\n",
              "      <td>0.00</td>\n",
              "      <td>27</td>\n",
              "      <td>1</td>\n",
              "      <td>False</td>\n",
              "      <td>1950.087611</td>\n",
              "    </tr>\n",
              "    <tr>\n",
              "      <th>4414</th>\n",
              "      <td>1960-02-01</td>\n",
              "      <td>0.15</td>\n",
              "      <td>52</td>\n",
              "      <td>44</td>\n",
              "      <td>True</td>\n",
              "      <td>1960.087611</td>\n",
              "    </tr>\n",
              "    <tr>\n",
              "      <th>8067</th>\n",
              "      <td>1970-02-01</td>\n",
              "      <td>0.00</td>\n",
              "      <td>50</td>\n",
              "      <td>42</td>\n",
              "      <td>False</td>\n",
              "      <td>1970.087611</td>\n",
              "    </tr>\n",
              "    <tr>\n",
              "      <th>11719</th>\n",
              "      <td>1980-02-01</td>\n",
              "      <td>0.37</td>\n",
              "      <td>54</td>\n",
              "      <td>36</td>\n",
              "      <td>True</td>\n",
              "      <td>1980.087611</td>\n",
              "    </tr>\n",
              "    <tr>\n",
              "      <th>15372</th>\n",
              "      <td>1990-02-01</td>\n",
              "      <td>0.08</td>\n",
              "      <td>45</td>\n",
              "      <td>37</td>\n",
              "      <td>True</td>\n",
              "      <td>1990.087611</td>\n",
              "    </tr>\n",
              "    <tr>\n",
              "      <th>19024</th>\n",
              "      <td>2000-02-01</td>\n",
              "      <td>1.34</td>\n",
              "      <td>49</td>\n",
              "      <td>41</td>\n",
              "      <td>True</td>\n",
              "      <td>2000.087611</td>\n",
              "    </tr>\n",
              "    <tr>\n",
              "      <th>22677</th>\n",
              "      <td>2010-02-01</td>\n",
              "      <td>0.08</td>\n",
              "      <td>49</td>\n",
              "      <td>40</td>\n",
              "      <td>True</td>\n",
              "      <td>2010.087611</td>\n",
              "    </tr>\n",
              "    <tr>\n",
              "      <th>25234</th>\n",
              "      <td>2017-02-01</td>\n",
              "      <td>0.00</td>\n",
              "      <td>43</td>\n",
              "      <td>29</td>\n",
              "      <td>False</td>\n",
              "      <td>2017.087611</td>\n",
              "    </tr>\n",
              "  </tbody>\n",
              "</table>\n",
              "</div>\n",
              "    <div class=\"colab-df-buttons\">\n",
              "\n",
              "  <div class=\"colab-df-container\">\n",
              "    <button class=\"colab-df-convert\" onclick=\"convertToInteractive('df-a8bc23e0-f37f-49c0-b6e8-532d40de84dc')\"\n",
              "            title=\"Convert this dataframe to an interactive table.\"\n",
              "            style=\"display:none;\">\n",
              "\n",
              "  <svg xmlns=\"http://www.w3.org/2000/svg\" height=\"24px\" viewBox=\"0 -960 960 960\">\n",
              "    <path d=\"M120-120v-720h720v720H120Zm60-500h600v-160H180v160Zm220 220h160v-160H400v160Zm0 220h160v-160H400v160ZM180-400h160v-160H180v160Zm440 0h160v-160H620v160ZM180-180h160v-160H180v160Zm440 0h160v-160H620v160Z\"/>\n",
              "  </svg>\n",
              "    </button>\n",
              "\n",
              "  <style>\n",
              "    .colab-df-container {\n",
              "      display:flex;\n",
              "      gap: 12px;\n",
              "    }\n",
              "\n",
              "    .colab-df-convert {\n",
              "      background-color: #E8F0FE;\n",
              "      border: none;\n",
              "      border-radius: 50%;\n",
              "      cursor: pointer;\n",
              "      display: none;\n",
              "      fill: #1967D2;\n",
              "      height: 32px;\n",
              "      padding: 0 0 0 0;\n",
              "      width: 32px;\n",
              "    }\n",
              "\n",
              "    .colab-df-convert:hover {\n",
              "      background-color: #E2EBFA;\n",
              "      box-shadow: 0px 1px 2px rgba(60, 64, 67, 0.3), 0px 1px 3px 1px rgba(60, 64, 67, 0.15);\n",
              "      fill: #174EA6;\n",
              "    }\n",
              "\n",
              "    .colab-df-buttons div {\n",
              "      margin-bottom: 4px;\n",
              "    }\n",
              "\n",
              "    [theme=dark] .colab-df-convert {\n",
              "      background-color: #3B4455;\n",
              "      fill: #D2E3FC;\n",
              "    }\n",
              "\n",
              "    [theme=dark] .colab-df-convert:hover {\n",
              "      background-color: #434B5C;\n",
              "      box-shadow: 0px 1px 3px 1px rgba(0, 0, 0, 0.15);\n",
              "      filter: drop-shadow(0px 1px 2px rgba(0, 0, 0, 0.3));\n",
              "      fill: #FFFFFF;\n",
              "    }\n",
              "  </style>\n",
              "\n",
              "    <script>\n",
              "      const buttonEl =\n",
              "        document.querySelector('#df-a8bc23e0-f37f-49c0-b6e8-532d40de84dc button.colab-df-convert');\n",
              "      buttonEl.style.display =\n",
              "        google.colab.kernel.accessAllowed ? 'block' : 'none';\n",
              "\n",
              "      async function convertToInteractive(key) {\n",
              "        const element = document.querySelector('#df-a8bc23e0-f37f-49c0-b6e8-532d40de84dc');\n",
              "        const dataTable =\n",
              "          await google.colab.kernel.invokeFunction('convertToInteractive',\n",
              "                                                    [key], {});\n",
              "        if (!dataTable) return;\n",
              "\n",
              "        const docLinkHtml = 'Like what you see? Visit the ' +\n",
              "          '<a target=\"_blank\" href=https://colab.research.google.com/notebooks/data_table.ipynb>data table notebook</a>'\n",
              "          + ' to learn more about interactive tables.';\n",
              "        element.innerHTML = '';\n",
              "        dataTable['output_type'] = 'display_data';\n",
              "        await google.colab.output.renderOutput(dataTable, element);\n",
              "        const docLink = document.createElement('div');\n",
              "        docLink.innerHTML = docLinkHtml;\n",
              "        element.appendChild(docLink);\n",
              "      }\n",
              "    </script>\n",
              "  </div>\n",
              "\n",
              "\n",
              "<div id=\"df-32989d3d-3e64-4b7a-be5a-9bf634fc5038\">\n",
              "  <button class=\"colab-df-quickchart\" onclick=\"quickchart('df-32989d3d-3e64-4b7a-be5a-9bf634fc5038')\"\n",
              "            title=\"Suggest charts\"\n",
              "            style=\"display:none;\">\n",
              "\n",
              "<svg xmlns=\"http://www.w3.org/2000/svg\" height=\"24px\"viewBox=\"0 0 24 24\"\n",
              "     width=\"24px\">\n",
              "    <g>\n",
              "        <path d=\"M19 3H5c-1.1 0-2 .9-2 2v14c0 1.1.9 2 2 2h14c1.1 0 2-.9 2-2V5c0-1.1-.9-2-2-2zM9 17H7v-7h2v7zm4 0h-2V7h2v10zm4 0h-2v-4h2v4z\"/>\n",
              "    </g>\n",
              "</svg>\n",
              "  </button>\n",
              "\n",
              "<style>\n",
              "  .colab-df-quickchart {\n",
              "      --bg-color: #E8F0FE;\n",
              "      --fill-color: #1967D2;\n",
              "      --hover-bg-color: #E2EBFA;\n",
              "      --hover-fill-color: #174EA6;\n",
              "      --disabled-fill-color: #AAA;\n",
              "      --disabled-bg-color: #DDD;\n",
              "  }\n",
              "\n",
              "  [theme=dark] .colab-df-quickchart {\n",
              "      --bg-color: #3B4455;\n",
              "      --fill-color: #D2E3FC;\n",
              "      --hover-bg-color: #434B5C;\n",
              "      --hover-fill-color: #FFFFFF;\n",
              "      --disabled-bg-color: #3B4455;\n",
              "      --disabled-fill-color: #666;\n",
              "  }\n",
              "\n",
              "  .colab-df-quickchart {\n",
              "    background-color: var(--bg-color);\n",
              "    border: none;\n",
              "    border-radius: 50%;\n",
              "    cursor: pointer;\n",
              "    display: none;\n",
              "    fill: var(--fill-color);\n",
              "    height: 32px;\n",
              "    padding: 0;\n",
              "    width: 32px;\n",
              "  }\n",
              "\n",
              "  .colab-df-quickchart:hover {\n",
              "    background-color: var(--hover-bg-color);\n",
              "    box-shadow: 0 1px 2px rgba(60, 64, 67, 0.3), 0 1px 3px 1px rgba(60, 64, 67, 0.15);\n",
              "    fill: var(--button-hover-fill-color);\n",
              "  }\n",
              "\n",
              "  .colab-df-quickchart-complete:disabled,\n",
              "  .colab-df-quickchart-complete:disabled:hover {\n",
              "    background-color: var(--disabled-bg-color);\n",
              "    fill: var(--disabled-fill-color);\n",
              "    box-shadow: none;\n",
              "  }\n",
              "\n",
              "  .colab-df-spinner {\n",
              "    border: 2px solid var(--fill-color);\n",
              "    border-color: transparent;\n",
              "    border-bottom-color: var(--fill-color);\n",
              "    animation:\n",
              "      spin 1s steps(1) infinite;\n",
              "  }\n",
              "\n",
              "  @keyframes spin {\n",
              "    0% {\n",
              "      border-color: transparent;\n",
              "      border-bottom-color: var(--fill-color);\n",
              "      border-left-color: var(--fill-color);\n",
              "    }\n",
              "    20% {\n",
              "      border-color: transparent;\n",
              "      border-left-color: var(--fill-color);\n",
              "      border-top-color: var(--fill-color);\n",
              "    }\n",
              "    30% {\n",
              "      border-color: transparent;\n",
              "      border-left-color: var(--fill-color);\n",
              "      border-top-color: var(--fill-color);\n",
              "      border-right-color: var(--fill-color);\n",
              "    }\n",
              "    40% {\n",
              "      border-color: transparent;\n",
              "      border-right-color: var(--fill-color);\n",
              "      border-top-color: var(--fill-color);\n",
              "    }\n",
              "    60% {\n",
              "      border-color: transparent;\n",
              "      border-right-color: var(--fill-color);\n",
              "    }\n",
              "    80% {\n",
              "      border-color: transparent;\n",
              "      border-right-color: var(--fill-color);\n",
              "      border-bottom-color: var(--fill-color);\n",
              "    }\n",
              "    90% {\n",
              "      border-color: transparent;\n",
              "      border-bottom-color: var(--fill-color);\n",
              "    }\n",
              "  }\n",
              "</style>\n",
              "\n",
              "  <script>\n",
              "    async function quickchart(key) {\n",
              "      const quickchartButtonEl =\n",
              "        document.querySelector('#' + key + ' button');\n",
              "      quickchartButtonEl.disabled = true;  // To prevent multiple clicks.\n",
              "      quickchartButtonEl.classList.add('colab-df-spinner');\n",
              "      try {\n",
              "        const charts = await google.colab.kernel.invokeFunction(\n",
              "            'suggestCharts', [key], {});\n",
              "      } catch (error) {\n",
              "        console.error('Error during call to suggestCharts:', error);\n",
              "      }\n",
              "      quickchartButtonEl.classList.remove('colab-df-spinner');\n",
              "      quickchartButtonEl.classList.add('colab-df-quickchart-complete');\n",
              "    }\n",
              "    (() => {\n",
              "      let quickchartButtonEl =\n",
              "        document.querySelector('#df-32989d3d-3e64-4b7a-be5a-9bf634fc5038 button');\n",
              "      quickchartButtonEl.style.display =\n",
              "        google.colab.kernel.accessAllowed ? 'block' : 'none';\n",
              "    })();\n",
              "  </script>\n",
              "</div>\n",
              "\n",
              "    </div>\n",
              "  </div>\n"
            ],
            "application/vnd.google.colaboratory.intrinsic+json": {
              "type": "dataframe",
              "variable_name": "df",
              "summary": "{\n  \"name\": \"df\",\n  \"rows\": 8,\n  \"fields\": [\n    {\n      \"column\": \"date\",\n      \"properties\": {\n        \"dtype\": \"date\",\n        \"min\": \"1950-02-01 00:00:00\",\n        \"max\": \"2017-02-01 00:00:00\",\n        \"num_unique_values\": 8,\n        \"samples\": [\n          \"1960-02-01 00:00:00\",\n          \"2000-02-01 00:00:00\",\n          \"1950-02-01 00:00:00\"\n        ],\n        \"semantic_type\": \"\",\n        \"description\": \"\"\n      }\n    },\n    {\n      \"column\": \"amount_of_precipitation\",\n      \"properties\": {\n        \"dtype\": \"number\",\n        \"std\": 0.45634416836418545,\n        \"min\": 0.0,\n        \"max\": 1.34,\n        \"num_unique_values\": 5,\n        \"samples\": [\n          0.15,\n          1.34,\n          0.37\n        ],\n        \"semantic_type\": \"\",\n        \"description\": \"\"\n      }\n    },\n    {\n      \"column\": \"max_temperature\",\n      \"properties\": {\n        \"dtype\": \"number\",\n        \"std\": 8,\n        \"min\": 27,\n        \"max\": 54,\n        \"num_unique_values\": 7,\n        \"samples\": [\n          27,\n          52,\n          49\n        ],\n        \"semantic_type\": \"\",\n        \"description\": \"\"\n      }\n    },\n    {\n      \"column\": \"min_temperature\",\n      \"properties\": {\n        \"dtype\": \"number\",\n        \"std\": 14,\n        \"min\": 1,\n        \"max\": 44,\n        \"num_unique_values\": 8,\n        \"samples\": [\n          44,\n          41,\n          1\n        ],\n        \"semantic_type\": \"\",\n        \"description\": \"\"\n      }\n    },\n    {\n      \"column\": \"rain\",\n      \"properties\": {\n        \"dtype\": \"category\",\n        \"num_unique_values\": 2,\n        \"samples\": [\n          true,\n          false\n        ],\n        \"semantic_type\": \"\",\n        \"description\": \"\"\n      }\n    },\n    {\n      \"column\": \"year\",\n      \"properties\": {\n        \"dtype\": \"number\",\n        \"std\": 23.89822169116355,\n        \"min\": 1950.0876112251883,\n        \"max\": 2017.0876112251883,\n        \"num_unique_values\": 8,\n        \"samples\": [\n          1960.0876112251883,\n          2000.0876112251883\n        ],\n        \"semantic_type\": \"\",\n        \"description\": \"\"\n      }\n    }\n  ]\n}"
            }
          },
          "metadata": {},
          "execution_count": 3
        }
      ],
      "source": [
        "import pandas as pd\n",
        "import requests as rq\n",
        "url_regressor = 'https://raw.githubusercontent.com/MicrosoftDocs/mslearn-introduction-to-machine-learning/main/Data/ml-dataset-regressor.csv'\n",
        "response=rq.get(url_regressor)\n",
        "with open('ml-dataset-regressor.csv','wb') as f:\n",
        "    f.write(response.content)\n",
        "url_weather=\"https://raw.githubusercontent.com/MicrosoftDocs/mslearn-introduction-to-machine-learning/main/Data/seattleWeather_1948-2017.csv\"\n",
        "response=rq.get(url_weather)\n",
        "with open('seattleWeather_1948-2017.csv','wb') as f:\n",
        "    f.write(response.content)\n",
        "\n",
        "from datetime import datetime\n",
        "# lecture de donnée de la temperature\n",
        "df= pd.read_csv(\"seattleWeather_1948-2017.csv\", parse_dates=[\"date\"])\n",
        "\n",
        "# Convertir les dates en nombres pour pouvoir les utiliser dans nos modèles\n",
        "# Nous créons une colonne d'années qui peut contenir des fractions. Par exemple,\n",
        "# 1948.5 correspond à la moitié de l'année 1948\n",
        "df[\"year\"] = [d.year + d.timetuple().tm_yday / 365.25 for d in df[\"date\"]]\n",
        "# Pour les besoins de cet exercice, examinons le 1er février pour les années suivantes :\n",
        "\n",
        "desired_dates = [\n",
        "    datetime(1950,2,1),\n",
        "    datetime(1960,2,1),\n",
        "    datetime(1970,2,1),\n",
        "    datetime(1980,2,1),\n",
        "    datetime(1990,2,1),\n",
        "    datetime(2000,2,1),\n",
        "    datetime(2010,2,1),\n",
        "    datetime(2017,2,1),\n",
        "]\n",
        "df = df[df[\"date\"].isin(desired_dates)]\n",
        "df.head(10)"
      ]
    },
    {
      "cell_type": "code",
      "source": [
        "from collections import Counter\n",
        "\n",
        "counts_max_temp= Counter(df['max_temperature'])\n",
        "\n",
        "for key, count in counts_max_temp.most_common(2000):\n",
        "  print(f\"max_temperature: {key}, frequence:{count}\")\n"
      ],
      "metadata": {
        "colab": {
          "base_uri": "https://localhost:8080/"
        },
        "id": "OwgdKHCDcFrE",
        "outputId": "2ff88e1e-8a91-45de-f7a7-86d89fd7366f"
      },
      "execution_count": 9,
      "outputs": [
        {
          "output_type": "stream",
          "name": "stdout",
          "text": [
            "max_temperature: 49, frequence:2\n",
            "max_temperature: 27, frequence:1\n",
            "max_temperature: 52, frequence:1\n",
            "max_temperature: 50, frequence:1\n",
            "max_temperature: 54, frequence:1\n",
            "max_temperature: 45, frequence:1\n",
            "max_temperature: 43, frequence:1\n"
          ]
        }
      ]
    },
    {
      "source": [
        "# @title amount_of_precipitation\n",
        "\n",
        "from matplotlib import pyplot as plt\n",
        "df['amount_of_precipitation'].plot(kind='line', figsize=(8, 4), title='amount_of_precipitation')\n",
        "plt.gca().spines[['top', 'right']].set_visible(False)"
      ],
      "cell_type": "code",
      "execution_count": 14,
      "outputs": [
        {
          "output_type": "display_data",
          "data": {
            "text/plain": [
              "<Figure size 800x400 with 1 Axes>"
            ],
            "image/png": "[encoded data removed]"
          },
          "metadata": {}
        }
      ],
      "metadata": {
        "colab": {
          "base_uri": "https://localhost:8080/",
          "height": 391
        },
        "id": "fwLjUIxNa6Hd",
        "outputId": "310780f7-accd-4ccf-fcef-af782717b834"
      }
    },
    {
      "source": [
        "# @title rain\n",
        "\n",
        "from matplotlib import pyplot as plt\n",
        "import seaborn as sns\n",
        "df.groupby('rain').size().plot(kind='barh', color=sns.palettes.mpl_palette('Dark2'))\n",
        "plt.gca().spines[['top', 'right',]].set_visible(False)"
      ],
      "cell_type": "code",
      "execution_count": 11,
      "outputs": [
        {
          "output_type": "display_data",
          "data": {
            "text/plain": [
              "<Figure size 640x480 with 1 Axes>"
            ],
            "image/png": "[encoded data removed]"
          },
          "metadata": {}
        }
      ],
      "metadata": {
        "colab": {
          "base_uri": "https://localhost:8080/",
          "height": 430
        },
        "id": "Kk4Pzn-IapGq",
        "outputId": "5e3d7f12-e0aa-4882-e2d4-5f84e48b9808"
      }
    },
    {
      "source": [
        "# @title Temperature Trend Over Time\n",
        "\n",
        "import matplotlib.pyplot as plt\n",
        "\n",
        "plt.plot(df['year'], df['max_temperature'], label='Max Temperature')\n",
        "plt.plot(df['year'], df['min_temperature'], label='Min Temperature')\n",
        "plt.xlabel('Year')\n",
        "plt.ylabel('Temperature')\n",
        "plt.title('Temperature Trend Over Time')\n",
        "_ = plt.legend()"
      ],
      "cell_type": "code",
      "execution_count": 10,
      "outputs": [
        {
          "output_type": "display_data",
          "data": {
            "text/plain": [
              "<Figure size 640x480 with 1 Axes>"
            ],
            "image/png": "[encoded data removed]"
          },
          "metadata": {}
        }
      ],
      "metadata": {
        "colab": {
          "base_uri": "https://localhost:8080/",
          "height": 472
        },
        "id": "ndLjk5zcaW_i",
        "outputId": "bb88e1b2-ce62-45a4-f5ac-494a0cea32e5"
      }
    },
    {
      "cell_type": "code",
      "source": [
        "# random.shuffle() --  réorganise aléatoirement les éléments d’une liste\n",
        "# random.choice()--> choisir un élément au hasard dans une liste,\n",
        "#random.sample() --> choisir au hasard un échantillon d’éléments sans remise\n",
        "#random.seed(10) -->  pour obtenir le même résultat à chaque fois\n",
        "#random.randrange()--> prend soit un argument, soit deux, et retourne un élément choisi aléatoirement dans la plage range()\n",
        "# random.random()--> produit des nombres uniformément répartis entre0 et 1\n",
        "\n",
        "import re\n",
        "re_examples = [  # tous sont vrais car\n",
        "               not re.match(\"a\", \"cat\"),\n",
        "               # 'cat' ne commence pas par 'a'\n",
        "               re.search(\"a\", \"cat\"),\n",
        "               # 'cat' contient un 'a'\n",
        "               not re.search(\"c\", \"dog\"),\n",
        "               # 'dog' ne contient pas de 'c'\n",
        "               3 == len(re.split(\"[ab]\", \"carbs\")),\n",
        "               # se coupe en a ou b en ['c','r','s']\n",
        "               \"R-D-\" == re.sub(\"[0-9]\", \"-\", \"R2D2\")\n",
        "               # remplace les chiffres par des tirets\n",
        "               ]\n",
        "assert all(re_examples), \"all the regex examples should be True\"\n",
        "\n",
        "# module typing\n",
        "# 1. Types génériques simples\n",
        "# Utilisez les types de base : List, Tuple, Dict, Set, Optional\n"
      ],
      "metadata": {
        "id": "kJw5_uwCXXs-"
      },
      "execution_count": 31,
      "outputs": []
    }
  ]
}
