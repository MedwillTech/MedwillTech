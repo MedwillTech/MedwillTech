{
  "nbformat": 4,
  "nbformat_minor": 0,
  "metadata": {
    "colab": {
      "provenance": [],
      "authorship_tag": "ABX9TyPVsSQh+wtk54lnm8iu1XLY", 
      "include_colab_link": true
    },
    "kernelspec": {
      "name": "python3",
      "display_name": "Python 3"
    },
    "language_info": {
      "name": "python"
    }
  },
  "cells": [
    {
      "cell_type": "markdown",
      "metadata": {
        "id": "view-in-github",
        "colab_type": "text"
      },
      "source": [
        "<a href=\"https://colab.research.google.com/github/MedwillTech/MedwillTech/blob/main/Formation_en_Data_Science1.ipynb\" target=\"_parent\"><img src=\"https://colab.research.google.com/assets/colab-badge.svg\" alt=\"Open In Colab\"/></a>"
      ]
    },
    {
      "cell_type": "markdown",
      "source": [
        "#Agenda de Formation en Data Science pour Google Colab\n",
        "\n",
        "#Semaine 1-2 : Introduction et Fondamentaux du Machine Learning\n",
        "\n",
        "    Jour 1-3 : Introduction au Machine Learning\n",
        "\n",
        "*Théorie :*\n",
        "\n",
        "Concepts de base : types d'apprentissage (supervisé, non supervisé, semi-supervisé).\n",
        "\n",
        "**Pratique :** Notebook Colab : Introduction au Machine Learning, importation des bibliothèques (NumPy, Pandas, Matplotlib, Scikit-Learn).\n",
        "\n",
        "**Exercice :**\n",
        "\n",
        "Chargement d'un dataset simple (Iris dataset) et création d'un modèle de classification basique.\n",
        "Lien vers un dataset : Kaggle.\n",
        "\n",
        "    Jour 4-7 : Exploration et Nettoyage des Données\n",
        "\n",
        "*Théorie :*\n",
        "\n",
        "#Préparation des données : gestion des données manquantes, valeurs aberrantes.\n",
        "\n",
        "    Pratique : Notebook Colab : Utilisation de Pandas pour nettoyer un dataset de qualité de l'air.\n",
        "\n",
        "*Projet 1 :*\n",
        "\n",
        "Nettoyage du dataset de qualité de l'air disponible sur Kaggle (Importer le dataset via Google Drive dans Colab).\n",
        "\n",
        "#Semaine 3-4 : Techniques Avancées de Prétraitement des Données\n",
        "\n",
        "    Jour 1-3 : Transformation et Ingénierie des Caractéristiques\n",
        "\n",
        "*Théorie :*\n",
        "\n",
        "Encodage des variables catégoriques : normalisation, standardisation.\n",
        "\n",
        "Pratique : Notebook Colab : Préparation de données avec Scikit-Learn (fonction StandardScaler, LabelEncoder).\n",
        "\n",
        "*Projet 2 :*\n",
        "\n",
        "Préparation des données pour la prédiction des prix de l'immobilier en utilisant le dataset Zillow.\n",
        "Lien vers un dataset : Zillow dataset.\n",
        "\n",
        "    Jour 4-7 : Réduction de Dimensionnalité\n",
        "\n",
        "*Théorie :*\n",
        "\n",
        "PCA (Principal Component Analysis) : TSNE.\n",
        "\n",
        "Pratique : Notebook Colab : Implémentation de PCA avec Scikit-Learn.\n",
        "\n",
        "*Projet 3 :*\n",
        "\n",
        "Application de PCA sur un dataset de reconnaissance faciale (Labeled Faces in the Wild).\n",
        "\n",
        "#Semaine 5-6 : Algorithmes de Machine Learning\n",
        "\n",
        "    Jour 1-3 : Régression Linéaire et Logistique\n",
        "\n",
        "*Théorie :*\n",
        "\n",
        "Modèles de régression : métriques d'évaluation.\n",
        "\n",
        "#Pratique : Notebook Colab : Implémentation d'une régression linéaire et logistique.\n",
        "\n",
        "*Projet 4 :*\n",
        "\n",
        "Prédiction des scores des étudiants à partir d'un dataset disponible sur Kaggle.\n",
        "\n",
        "    Jour 4-7 : Arbres de Décision et Forêts Aléatoires\n",
        "\n",
        "*Théorie :*\n",
        "\n",
        "Arbres de décision : surapprentissage, bagging.\n",
        "\n",
        "#Pratique : Notebook Colab : Utilisation de RandomForestClassifier de Scikit-Learn.\n",
        "\n",
        "*Projet 5 :*\n",
        "\n",
        "Classification de maladies cardiaques avec le dataset UCI Heart Disease.\n",
        "\n",
        "#Semaine 7-8 : Introduction au Deep Learning\n",
        "\n",
        "    Jour 1-3 : Concepts de Base du Deep Learning\n",
        "\n",
        "*Théorie :*\n",
        "\n",
        "Réseaux de neurones : fonctions d'activation, rétropropagation.\n",
        "\n",
        "#Pratique : Notebook Colab : Introduction à TensorFlow/Keras, création d'un réseau de neurones simple.\n",
        "\n",
        "*Projet 6 :*\n",
        "\n",
        "Reconnaissance d'images sur le dataset MNIST.\n",
        "\n",
        "    Jour 4-7 : Réseaux de Neurones Convolutifs (CNN)\n",
        "\n",
        "*Théorie :*\n",
        "\n",
        "Convolutions : pooling, architectures célèbres.\n",
        "\n",
        "#Pratique : Notebook Colab : Construction d'un CNN avec Keras.\n",
        "\n",
        "*Projet 7 :*\n",
        "\n",
        "Classification d'images avec CIFAR-10.\n",
        "\n",
        "#Semaine 9-10 : Projets Avancés et Domaines Spécifiques\n",
        "\n",
        "    Jour 1-3 : Analyse des Séries Temporelles\n",
        "\n",
        "*Théorie :*\n",
        "\n",
        "Modèles ARIMA : RNN.\n",
        "\n",
        "#Pratique : Notebook Colab : Utilisation de statsmodels pour ARIMA et Keras pour RNN.\n",
        "\n",
        "*Projet 8 :*\n",
        "\n",
        "Prédiction des prix des actions (dataset Yahoo Finance).\n",
        "\n",
        "    Jour 4-7 : NLP (Natural Language Processing)\n",
        "\n",
        "*Théorie :*\n",
        "\n",
        "Tokenization : TF-IDF, word embeddings.\n",
        "\n",
        "#Pratique : Notebook Colab : Analyse de texte avec nltk et spacy.\n",
        "\n",
        "Projet 9 :\n",
        "\n",
        "Analyse de sentiment sur les critiques de films (IMDB dataset).\n",
        "\n",
        "#Semaine 11-12 : Méthodes Avancées et Optimisation\n",
        "\n",
        "    Jour 1-3 : Hyperparameter Tuning et Modèles Ensemblistes\n",
        "\n",
        "*Théorie :*\n",
        "\n",
        "Grid Search : Random Search, Boosting (XGBoost).\n",
        "\n",
        "Pratique : Notebook Colab : Utilisation de GridSearchCV de Scikit-Learn et XGBoost.\n",
        "\n",
        "*Projet 10 :*\n",
        "\n",
        "Prédiction de défaut de crédit (World Bank dataset).\n",
        "\n",
        "    Jour 4-7 : Explicabilité des Modèles\n",
        "\n",
        "*Théorie :*\n",
        "\n",
        "SHAP values : LIME.\n",
        "\n",
        "Pratique : Notebook Colab : Implémentation des outils d'explicabilité.\n",
        "\n",
        "*Projet 11 :*\n",
        "\n",
        "Explication des décisions d’un modèle de prêt bancaire."
      ],
      "metadata": {
        "id": "ZpeiyekrVgu4"
      }
    },
    {
      "cell_type": "markdown",
      "source": [
        "#On comme maintenant !!!!!!!!"
      ],
      "metadata": {
        "id": "eM28lfLCa-qP"
      }
    },
    {
      "cell_type": "markdown",
      "source": [
        "# Jour 1 : Introduction au Machine Learning\n",
        "\n",
        "##Théorie :\n",
        "\n",
        "*Le Machine Learning (ML)* est un domaine de l'intelligence artificielle qui permet aux ordinateurs d'apprendre à partir de données sans être explicitement programmés. Les principales catégories d'apprentissage sont :\n",
        "\n",
        "\n",
        "**1-Apprentissage supervisé :** Le modèle est formé sur des données étiquetées. Exemple : Classification d'email en \"spam\" ou \"non-spam\".\n",
        "\n",
        "**2-Apprentissage non supervisé :** Le modèle essaie de trouver des structures cachées dans des données non étiquetées. Exemple : Groupement de clients selon leurs comportements d'achat.\n",
        "\n",
        "**3-Apprentissage semi-supervisé**: Utilise un mélange de données étiquetées et non étiquetées pour l'entraînement.\n",
        "\n",
        "**4-Apprentissage par renforcement :** Le modèle apprend à prendre des décisions en recevant des récompenses ou des punitions."
      ],
      "metadata": {
        "id": "ks1NxcSobJqD"
      }
    },
    {
      "cell_type": "markdown",
      "source": [
        "#Pratique :\n",
        "Nous allons commencer avec un notebook simple dans Google Colab où tu importeras des bibliothèques fondamentales et manipuleras le célèbre dataset Iris.\n",
        "\n",
        "#Étape 1 : Créer un Notebook dans Google Colab\n",
        "Ouvre Google Colab.\n",
        "Crée un nouveau notebook.\n",
        "#Étape 2 : Importation des bibliothèques nécessaires\n",
        "Dans une cellule de code de ton notebook, commence par importer les bibliothèques suivantes :"
      ],
      "metadata": {
        "id": "t0z8pkEqb5GR"
      }
    },
    {
      "cell_type": "markdown",
      "source": [
        "#code"
      ],
      "metadata": {
        "id": "usFtw6NLcmz7"
      }
    },
    {
      "cell_type": "code",
      "execution_count": 7,
      "metadata": {
        "id": "OgfLR8o5RJgg"
      },
      "outputs": [],
      "source": [
        "import pandas as pd\n",
        "import  matplotlib.pyplot as plt\n",
        "import numpy as np\n",
        "from sklearn import datasets\n",
        "from sklearn.model_selection import train_test_split\n",
        "from sklearn.metrics import accuracy_score\n",
        "from sklearn.neighbors import KNeighborsClassifier"
      ]
    },
    {
      "cell_type": "markdown",
      "source": [
        "##Étape 3 : Chargement et Exploration du Dataset Iris"
      ],
      "metadata": {
        "id": "wPUt0Gpogszt"
      }
    },
    {
      "cell_type": "code",
      "source": [
        "## Charger le dataset Iris\n",
        "iris= datasets.load_iris()\n",
        "X=iris.data\n",
        "y=iris.target\n",
        "\n",
        "# Afficher les premières lignes\n",
        "iris_df=pd.DataFrame(data=X,columns=iris.feature_names)\n",
        "iris_df['target']=y\n",
        "print(iris_df.head())"
      ],
      "metadata": {
        "colab": {
          "base_uri": "https://localhost:8080/"
        },
        "id": "hbH4JvDGgwwg",
        "outputId": "7d4210a0-062a-4078-ed9c-d25c00094260"
      },
      "execution_count": 9,
      "outputs": [
        {
          "output_type": "stream",
          "name": "stdout",
          "text": [
            "   sepal length (cm)  sepal width (cm)  petal length (cm)  petal width (cm)  \\\n",
            "0                5.1               3.5                1.4               0.2   \n",
            "1                4.9               3.0                1.4               0.2   \n",
            "2                4.7               3.2                1.3               0.2   \n",
            "3                4.6               3.1                1.5               0.2   \n",
            "4                5.0               3.6                1.4               0.2   \n",
            "\n",
            "   target  \n",
            "0       0  \n",
            "1       0  \n",
            "2       0  \n",
            "3       0  \n",
            "4       0  \n"
          ]
        }
      ]
    },
    {
      "cell_type": "markdown",
      "source": [
        "#Étape 4 : Création d'un Modèle Basique\n",
        "Nous allons maintenant créer un modèle de classification K-Nearest Neighbors (KNN) pour classer les fleurs en fonction de leurs caractéristiques."
      ],
      "metadata": {
        "id": "INzFVKV6jHxb"
      }
    },
    {
      "cell_type": "code",
      "source": [
        "# Séparation des données en jeu d'entraînement et de test\n",
        "X_train, X_test, y_train, y_test = train_test_split(X, y, test_size=0.3, random_state=42)\n",
        "\n",
        "# Création du modèle\n",
        "knn = KNeighborsClassifier(n_neighbors=3)\n",
        "knn.fit(X_train, y_train)\n",
        "\n",
        "# Évaluation du modèle\n",
        "score = knn.score(X_test, y_test)\n",
        "print(f'Accuracy: {score * 100:.2f}%')\n"
      ],
      "metadata": {
        "colab": {
          "base_uri": "https://localhost:8080/"
        },
        "id": "ENHeiHndjKBM",
        "outputId": "01fbd77d-84be-47be-eef4-79effe69bf27"
      },
      "execution_count": 17,
      "outputs": [
        {
          "output_type": "stream",
          "name": "stdout",
          "text": [
            "Accuracy: 100.00%\n"
          ]
        }
      ]
    },
    {
      "cell_type": "markdown",
      "source": [
        "##Exercice :\n",
        "\n",
        "Expérimente avec différentes valeurs de n_neighbors dans le modèle KNN.\n",
        "Visualise les différentes classes de fleurs en utilisant un diagramme de dispersion (plt.scatter) pour mieux comprendre les données.\n",
        "\n",
        "**1-Expérimentation avec n_neighbors :** Essaie différentes valeurs pour le paramètre n_neighbors dans le modèle KNN et observe comment cela affecte la précision du modèle. Plus précisément, varie n_neighbors entre 1 et 10 pour voir l'impact sur le score du modèle.\n",
        "\n",
        "Ajoute une boucle dans ton code pour tester plusieurs valeurs de n_neighbors :"
      ],
      "metadata": {
        "id": "IkG5M0Lfky4U"
      }
    },
    {
      "cell_type": "code",
      "source": [
        "# Tester différentes valeurs de n_neighbors\n",
        "for n in range(1, 11):\n",
        "    knn = KNeighborsClassifier(n_neighbors=n)\n",
        "    knn.fit(X_train, y_train)\n",
        "    score = knn.score(X_test, y_test)\n",
        "    print(f'n_neighbors={n}, Accuracy: {score * 100:.2f}%')\n"
      ],
      "metadata": {
        "colab": {
          "base_uri": "https://localhost:8080/"
        },
        "id": "wG_dAD4ak59g",
        "outputId": "c5ec603d-bf36-4976-88fe-3ee63009e96a"
      },
      "execution_count": 18,
      "outputs": [
        {
          "output_type": "stream",
          "name": "stdout",
          "text": [
            "n_neighbors=1, Accuracy: 100.00%\n",
            "n_neighbors=2, Accuracy: 100.00%\n",
            "n_neighbors=3, Accuracy: 100.00%\n",
            "n_neighbors=4, Accuracy: 100.00%\n",
            "n_neighbors=5, Accuracy: 100.00%\n",
            "n_neighbors=6, Accuracy: 100.00%\n",
            "n_neighbors=7, Accuracy: 100.00%\n",
            "n_neighbors=8, Accuracy: 100.00%\n",
            "n_neighbors=9, Accuracy: 100.00%\n",
            "n_neighbors=10, Accuracy: 100.00%\n"
          ]
        }
      ]
    },
    {
      "cell_type": "markdown",
      "source": [
        "**2-Visualisation des classes de fleurs :** Utilise un diagramme de dispersion pour visualiser les différentes classes de fleurs. Cela t'aidera à comprendre comment les caractéristiques se séparent en fonction des différentes espèces.\n",
        "\n",
        "Voici un exemple de visualisation utilisant les deux premières caractéristiques (sepal length et sepal width) :"
      ],
      "metadata": {
        "id": "2X2R1MZTlTs0"
      }
    },
    {
      "cell_type": "code",
      "source": [
        "# Création d'un DataFrame pour une meilleure visualisation\n",
        "df = pd.DataFrame(X, columns=iris.feature_names)\n",
        "df['target'] = y\n",
        "\n",
        "# Scatter plot des deux premières caractéristiques\n",
        "plt.figure(figsize=(10, 6))\n",
        "plt.scatter(df[df['target'] == 0].iloc[:, 0], df[df['target'] == 0].iloc[:, 1], color='red', label=iris.target_names[0])\n",
        "plt.scatter(df[df['target'] == 1].iloc[:, 0], df[df['target'] == 1].iloc[:, 1], color='blue', label=iris.target_names[1])\n",
        "plt.scatter(df[df['target'] == 2].iloc[:, 0], df[df['target'] == 2].iloc[:, 1], color='green', label=iris.target_names[2])\n",
        "plt.xlabel(iris.feature_names[0])\n",
        "plt.ylabel(iris.feature_names[1])\n",
        "plt.title('Visualisation des données Iris')\n",
        "plt.legend()\n",
        "plt.show()"
      ],
      "metadata": {
        "colab": {
          "base_uri": "https://localhost:8080/",
          "height": 564
        },
        "id": "52u3JJrNlPEN",
        "outputId": "3aab4099-de8d-4e24-8813-9019da2aafbe"
      },
      "execution_count": 19,
      "outputs": [
        {
          "output_type": "display_data",
          "data": {
            "text/plain": [
              "<Figure size 1000x600 with 1 Axes>"
            ],
            "image/png": "[encoded data removed]"
          },
          "metadata": {}
        }
      ]
    },
    {
      "cell_type": "markdown",
      "source": [
        "#Bonus"
      ],
      "metadata": {
        "id": "JBPFIWBHmJiW"
      }
    },
    {
      "cell_type": "markdown",
      "source": [
        "**Pour effectuer une prédiction avec le modèle KNN que nous avons construit, nous allons suivre les étapes suivantes :**\n",
        "\n",
        "\n",
        "**1-Préparation d'un nouvel échantillon :** Nous allons créer un nouvel échantillon de données (caractéristiques d'une fleur) pour lequel nous voulons prédire la classe.\n",
        "\n",
        "**2-Utilisation du modèle pour prédire la classe :** Nous utiliserons le modèle KNN entraîné pour faire la prédiction sur cet échantillon.\n",
        "\n",
        "#Étape 1 : Préparation d'un nouvel échantillon\n",
        "Créons un nouvel échantillon avec des caractéristiques arbitraires. Par exemple, considérons une fleur avec les caractéristiques suivantes :\n",
        "\n",
        "sepal length = 5.0\n",
        "\n",
        "sepal width = 3.6\n",
        "\n",
        "petal length = 1.4\n",
        "\n",
        "petal width = 0.2"
      ],
      "metadata": {
        "id": "0dFvV6YRmNHx"
      }
    },
    {
      "cell_type": "code",
      "source": [
        "# Nouvel échantillon de données\n",
        "new_sample = np.array([[5.0, 3.6, 1.4, 0.2]])"
      ],
      "metadata": {
        "id": "wEiBN7ISmh2L"
      },
      "execution_count": 20,
      "outputs": []
    },
    {
      "cell_type": "markdown",
      "source": [
        "#Étape 2 : Prédiction de la classe\n",
        "Utilisons le modèle KNN pour prédire la classe de cette fleur."
      ],
      "metadata": {
        "id": "UZOdKgR_m031"
      }
    },
    {
      "cell_type": "code",
      "source": [
        "# Prédiction avec le modèle KNN\n",
        "predicted_class = knn.predict(new_sample)\n",
        "predicted_class_name = iris.target_names[predicted_class[0]]\n",
        "\n",
        "print(f'La classe prédite est : {predicted_class_name}')\n"
      ],
      "metadata": {
        "colab": {
          "base_uri": "https://localhost:8080/"
        },
        "id": "HtvyKw5xm7XD",
        "outputId": "a5cceee4-65f1-4ed1-b024-a4ddabc75029"
      },
      "execution_count": 21,
      "outputs": [
        {
          "output_type": "stream",
          "name": "stdout",
          "text": [
            "La classe prédite est : setosa\n"
          ]
        }
      ]
    },
    {
      "cell_type": "markdown",
      "source": [
        "#Étape 3 : Prédiction sur plusieurs échantillons (optionnel)\n",
        "Si tu veux faire des prédictions sur plusieurs échantillons en une seule fois, tu peux créer un tableau de plusieurs échantillons et utiliser la méthode predict pour obtenir les prédictions pour chacun d'eux."
      ],
      "metadata": {
        "id": "gZ9Xma1gnO3O"
      }
    },
    {
      "cell_type": "code",
      "source": [
        "# Plusieurs échantillons de données\n",
        "new_samples = np.array([\n",
        "    [5.0, 3.6, 1.4, 0.2],\n",
        "    [6.7, 3.0, 5.2, 2.3],\n",
        "    [5.9, 3.2, 4.8, 1.8]\n",
        "])\n",
        "\n",
        "# Prédictions pour chaque échantillon\n",
        "predicted_classes = knn.predict(new_samples)\n",
        "predicted_class_names = [iris.target_names[class_idx] for class_idx in predicted_classes]\n",
        "\n",
        "for i, name in enumerate(predicted_class_names):\n",
        "    print(f'Échantillon {i+1}: Classe prédite - {name}')\n"
      ],
      "metadata": {
        "colab": {
          "base_uri": "https://localhost:8080/"
        },
        "id": "-7hvFa-anR7L",
        "outputId": "9cbc7421-c14e-4e73-f181-876cb496c35f"
      },
      "execution_count": 22,
      "outputs": [
        {
          "output_type": "stream",
          "name": "stdout",
          "text": [
            "Échantillon 1: Classe prédite - setosa\n",
            "Échantillon 2: Classe prédite - virginica\n",
            "Échantillon 3: Classe prédite - versicolor\n"
          ]
        }
      ]
    },
    {
      "cell_type": "markdown",
      "source": [
        "#Jour 4-7 : Exploration et Nettoyage des Données\n",
        "**Théorie :**\n",
        "L'exploration et le nettoyage des données sont des étapes cruciales avant de construire un modèle de Machine Learning. Cela inclut :\n",
        "\n",
        "**1-Gestion des données manquantes :** Il est courant de trouver des valeurs manquantes dans les données. Les stratégies pour les gérer incluent la suppression des lignes ou des colonnes avec des valeurs manquantes ou le remplacement de ces valeurs par la moyenne, la médiane, ou d'autres techniques.\n",
        "\n",
        "**2-Traitement des valeurs aberrantes :** Les valeurs aberrantes peuvent biaiser les résultats du modèle. Elles peuvent être détectées via des statistiques descriptives ou des visualisations (boîtes à moustaches, diagrammes de dispersion).\n",
        "\n",
        "**3-Encodage des variables catégoriques :** Les algorithmes de Machine Learning nécessitent souvent des données numériques, donc les variables catégoriques doivent être transformées en nombres (par exemple, avec OneHotEncoder ou LabelEncoder).\n",
        "\n",
        "**4-Standardisation et Normalisation :**La mise à l'échelle des données est essentielle pour les algorithmes sensibles aux magnitudes des données (comme KNN, régression logistique)."
      ],
      "metadata": {
        "id": "bkB3gxiFnuO7"
      }
    },
    {
      "cell_type": "markdown",
      "source": [
        "#Pratique :\n",
        "Nous allons explorer un dataset contenant des données réelles et le nettoyer en utilisant Pandas et Scikit-Learn.\n",
        "\n",
        "#Étape 1 : Chargement du Dataset\n",
        "Utilisons le dataset \"Titanic\", un classique pour l'exploration de données, disponible sur Kaggle. Ce dataset contient des informations sur les passagers du Titanic, avec des valeurs manquantes et des variables catégoriques."
      ],
      "metadata": {
        "id": "YYoEfCE9oiP2"
      }
    },
    {
      "cell_type": "code",
      "source": [
        "import pandas as pd\n",
        "\n",
        "# Charger le dataset Titanic depuis une URL ou un fichier local\n",
        "url = 'https://raw.githubusercontent.com/datasciencedojo/datasets/master/titanic.csv'\n",
        "titanic = pd.read_csv(url)\n",
        "\n",
        "# Afficher les premières lignes du dataset\n",
        "print(titanic.head())\n"
      ],
      "metadata": {
        "colab": {
          "base_uri": "https://localhost:8080/"
        },
        "id": "oPUfz7fXoQuf",
        "outputId": "8a1b6590-ac9e-4c60-fa24-d15a674be769"
      },
      "execution_count": 1,
      "outputs": [
        {
          "output_type": "stream",
          "name": "stdout",
          "text": [
            "   PassengerId  Survived  Pclass  \\\n",
            "0            1         0       3   \n",
            "1            2         1       1   \n",
            "2            3         1       3   \n",
            "3            4         1       1   \n",
            "4            5         0       3   \n",
            "\n",
            "                                                Name     Sex   Age  SibSp  \\\n",
            "0                            Braund, Mr. Owen Harris    male  22.0      1   \n",
            "1  Cumings, Mrs. John Bradley (Florence Briggs Th...  female  38.0      1   \n",
            "2                             Heikkinen, Miss. Laina  female  26.0      0   \n",
            "3       Futrelle, Mrs. Jacques Heath (Lily May Peel)  female  35.0      1   \n",
            "4                           Allen, Mr. William Henry    male  35.0      0   \n",
            "\n",
            "   Parch            Ticket     Fare Cabin Embarked  \n",
            "0      0         A/5 21171   7.2500   NaN        S  \n",
            "1      0          PC 17599  71.2833   C85        C  \n",
            "2      0  STON/O2. 3101282   7.9250   NaN        S  \n",
            "3      0            113803  53.1000  C123        S  \n",
            "4      0            373450   8.0500   NaN        S  \n"
          ]
        }
      ]
    },
    {
      "cell_type": "markdown",
      "source": [
        "#Étape 2 : Gestion des Données Manquantes\n",
        "Identifions les colonnes avec des valeurs manquantes et décidons d'une stratégie pour les gérer."
      ],
      "metadata": {
        "id": "S6yuzTWZpMJU"
      }
    },
    {
      "cell_type": "code",
      "source": [
        "# Vérifier les valeurs manquantes\n",
        "print(titanic.isnull().sum())\n",
        "\n",
        "# Remplacer les valeurs manquantes dans 'Age' par la moyenne\n",
        "titanic['Age'].fillna(titanic['Age'].mean(), inplace=True)\n",
        "\n",
        "# Supprimer la colonne 'Cabin' car elle contient beaucoup de valeurs manquantes\n",
        "titanic.drop('Cabin', axis=1, inplace=True)\n",
        "\n",
        "# Supprimer les lignes restantes avec des valeurs manquantes\n",
        "titanic.dropna(inplace=True)\n"
      ],
      "metadata": {
        "colab": {
          "base_uri": "https://localhost:8080/"
        },
        "id": "Dno60pKhpPQF",
        "outputId": "256e3d11-274f-494d-9a9e-15c8851dd69f"
      },
      "execution_count": 2,
      "outputs": [
        {
          "output_type": "stream",
          "name": "stdout",
          "text": [
            "PassengerId      0\n",
            "Survived         0\n",
            "Pclass           0\n",
            "Name             0\n",
            "Sex              0\n",
            "Age            177\n",
            "SibSp            0\n",
            "Parch            0\n",
            "Ticket           0\n",
            "Fare             0\n",
            "Cabin          687\n",
            "Embarked         2\n",
            "dtype: int64\n"
          ]
        },
        {
          "output_type": "stream",
          "name": "stderr",
          "text": [
            "<ipython-input-2-f6eb50956775>:5: FutureWarning: A value is trying to be set on a copy of a DataFrame or Series through chained assignment using an inplace method.\n",
            "The behavior will change in pandas 3.0. This inplace method will never work because the intermediate object on which we are setting values always behaves as a copy.\n",
            "\n",
            "For example, when doing 'df[col].method(value, inplace=True)', try using 'df.method({col: value}, inplace=True)' or df[col] = df[col].method(value) instead, to perform the operation inplace on the original object.\n",
            "\n",
            "\n",
            "  titanic['Age'].fillna(titanic['Age'].mean(), inplace=True)\n"
          ]
        }
      ]
    },
    {
      "cell_type": "markdown",
      "source": [
        "#Étape 3 : Encodage des Variables Catégoriques\n",
        "Encodons les colonnes catégoriques comme Sex et Embarked."
      ],
      "metadata": {
        "id": "WDJCkxNKpso7"
      }
    },
    {
      "cell_type": "code",
      "source": [
        "# Encodage de la colonne 'Sex'\n",
        "titanic['Sex'] = titanic['Sex'].map({'male': 0, 'female': 1})\n",
        "\n",
        "# Encodage de la colonne 'Embarked' avec OneHotEncoding\n",
        "titanic = pd.get_dummies(titanic, columns=['Embarked'], drop_first=True)\n"
      ],
      "metadata": {
        "id": "aWEz09avpu4i"
      },
      "execution_count": 3,
      "outputs": []
    },
    {
      "cell_type": "markdown",
      "source": [
        "#Étape 4 : Standardisation des Données\n",
        "Appliquons une standardisation sur les colonnes numériques."
      ],
      "metadata": {
        "id": "oHZ6mzvmqOnC"
      }
    },
    {
      "cell_type": "code",
      "source": [
        "from sklearn.preprocessing import StandardScaler\n",
        "\n",
        "# Standardisation des colonnes numériques\n",
        "scaler = StandardScaler()\n",
        "titanic[['Age', 'Fare']] = scaler.fit_transform(titanic[['Age', 'Fare']])\n",
        "\n",
        "print(titanic.head())"
      ],
      "metadata": {
        "colab": {
          "base_uri": "https://localhost:8080/"
        },
        "id": "kVRTMkCSqQeY",
        "outputId": "946fe834-c85f-4644-a954-02c5e79ae491"
      },
      "execution_count": 4,
      "outputs": [
        {
          "output_type": "stream",
          "name": "stdout",
          "text": [
            "   PassengerId  Survived  Pclass  \\\n",
            "0            1         0       3   \n",
            "1            2         1       1   \n",
            "2            3         1       3   \n",
            "3            4         1       1   \n",
            "4            5         0       3   \n",
            "\n",
            "                                                Name  Sex       Age  SibSp  \\\n",
            "0                            Braund, Mr. Owen Harris    0 -0.590495      1   \n",
            "1  Cumings, Mrs. John Bradley (Florence Briggs Th...    1  0.643971      1   \n",
            "2                             Heikkinen, Miss. Laina    1 -0.281878      0   \n",
            "3       Futrelle, Mrs. Jacques Heath (Lily May Peel)    1  0.412509      1   \n",
            "4                           Allen, Mr. William Henry    0  0.412509      0   \n",
            "\n",
            "   Parch            Ticket      Fare  Embarked_Q  Embarked_S  \n",
            "0      0         A/5 21171 -0.500240       False        True  \n",
            "1      0          PC 17599  0.788947       False       False  \n",
            "2      0  STON/O2. 3101282 -0.486650       False        True  \n",
            "3      0            113803  0.422861       False        True  \n",
            "4      0            373450 -0.484133       False        True  \n"
          ]
        }
      ]
    },
    {
      "cell_type": "markdown",
      "source": [
        "#Exercice :\n",
        "Créer des visualisations pour mieux comprendre la distribution des données et l'impact des variables catégoriques sur la survie. Utilise des diagrammes à barres et des boîtes à moustaches (boxplot).\n",
        "\n",
        "Expérimente avec différentes stratégies de gestion des valeurs manquantes (par exemple, remplacer par la médiane au lieu de la moyenne).\n",
        "\n",
        "#Projet : Nettoyage du Dataset Titanic\n",
        "**1-Objectif :** Préparer un dataset propre prêt à être utilisé pour un modèle de prédiction de la survie des passagers.\n",
        "\n",
        "**2-Étapes :**\n",
        "Charger et explorer les données.\n",
        "\n",
        "*   Gérer les valeurs manquantes.\n",
        "*   Encoder les variables catégoriques.\n",
        "*   Standardiser les colonnes numériques.\n",
        "*   Exporter le dataset nettoyé pour une utilisation future.\n",
        "*   Réalise ces étapes dans Google Colab et fais-moi savoir si tu rencontres des difficultés ou si tu veux approfondir un concept spécifique !"
      ],
      "metadata": {
        "id": "60Oytmm0qwDJ"
      }
    }
  ]
}
